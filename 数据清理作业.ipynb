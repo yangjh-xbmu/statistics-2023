{
 "cells": [
  {
   "cell_type": "code",
   "execution_count": 1,
   "metadata": {},
   "outputs": [],
   "source": [
    "import mytools"
   ]
  },
  {
   "cell_type": "code",
   "execution_count": 9,
   "metadata": {},
   "outputs": [],
   "source": [
    "数据表 = mytools.读取SPSS数据文件(R'data\\identity.sav')"
   ]
  },
  {
   "cell_type": "code",
   "execution_count": 12,
   "metadata": {},
   "outputs": [],
   "source": [
    "# 空白值处理\n",
    "数据表.dropna(thresh=4,inplace=True)"
   ]
  },
  {
   "cell_type": "code",
   "execution_count": 15,
   "metadata": {},
   "outputs": [
    {
     "data": {
      "text/plain": [
       "Index(['问卷编号', '调查员', '民族', '政治面貌', '年级', '您觉得自己是个典型的中国人吗',\n",
       "       '与世界其他国家的人相比中国人有自己的特点吗', 'v1', 'v2', 'v3', 'v4', '你是否了解重活民族的传统节日', 'v5',\n",
       "       '您觉得中国怎么样', '您认为中国有多少值得自豪的地方', '您认为世界有多少比例的人尊重中国', '对您而言作为一名中国人有多重要',\n",
       "       '会以中国人自豪吗', '会隐瞒身份吗', '会打多少分', '国歌升起', '世博会', '中国传统文化', '发展信心',\n",
       "       '你会为中国运动员呐喊助威', '遇到灾难时中国人应该伸出援手', '你愿意加入其他国籍吗', '中国人要为祖国统一奋斗吗'],\n",
       "      dtype='object')"
      ]
     },
     "execution_count": 15,
     "metadata": {},
     "output_type": "execute_result"
    }
   ],
   "source": [
    "# 异常值\n",
    "数据表.columns"
   ]
  },
  {
   "cell_type": "code",
   "execution_count": 17,
   "metadata": {},
   "outputs": [
    {
     "data": {
      "text/plain": [
       "v1\n",
       "完全同意     360\n",
       "同意       346\n",
       "有点同意     111\n",
       "不同意       30\n",
       "完全不同意     18\n",
       "Name: count, dtype: int64"
      ]
     },
     "execution_count": 17,
     "metadata": {},
     "output_type": "execute_result"
    }
   ],
   "source": [
    "数据表.v1.value_counts()"
   ]
  },
  {
   "cell_type": "code",
   "execution_count": 18,
   "metadata": {},
   "outputs": [],
   "source": [
    "# 删除重复值\n",
    "数据表.drop_duplicates(subset=['问卷编号'],keep='first',inplace=True)"
   ]
  },
  {
   "cell_type": "code",
   "execution_count": 19,
   "metadata": {},
   "outputs": [
    {
     "data": {
      "text/plain": [
       "问卷编号                      float64\n",
       "调查员                        object\n",
       "民族                       category\n",
       "政治面貌                     category\n",
       "年级                       category\n",
       "您觉得自己是个典型的中国人吗           category\n",
       "与世界其他国家的人相比中国人有自己的特点吗    category\n",
       "v1                       category\n",
       "v2                       category\n",
       "v3                       category\n",
       "v4                       category\n",
       "你是否了解重活民族的传统节日           category\n",
       "v5                       category\n",
       "您觉得中国怎么样                 category\n",
       "您认为中国有多少值得自豪的地方          category\n",
       "您认为世界有多少比例的人尊重中国         category\n",
       "对您而言作为一名中国人有多重要          category\n",
       "会以中国人自豪吗                 category\n",
       "会隐瞒身份吗                   category\n",
       "会打多少分                    category\n",
       "国歌升起                     category\n",
       "世博会                      category\n",
       "中国传统文化                   category\n",
       "发展信心                     category\n",
       "你会为中国运动员呐喊助威             category\n",
       "遇到灾难时中国人应该伸出援手           category\n",
       "你愿意加入其他国籍吗               category\n",
       "中国人要为祖国统一奋斗吗             category\n",
       "dtype: object"
      ]
     },
     "execution_count": 19,
     "metadata": {},
     "output_type": "execute_result"
    }
   ],
   "source": [
    "数据表.dtypes"
   ]
  },
  {
   "cell_type": "code",
   "execution_count": 20,
   "metadata": {},
   "outputs": [
    {
     "data": {
      "text/plain": [
       "您觉得中国怎么样\n",
       "挺好     473\n",
       "一般般    196\n",
       "十分棒    141\n",
       "较差      38\n",
       "很差劲     15\n",
       "Name: count, dtype: int64"
      ]
     },
     "execution_count": 20,
     "metadata": {},
     "output_type": "execute_result"
    }
   ],
   "source": [
    "# 逻辑一致性清理\n",
    "数据表.您觉得中国怎么样.value_counts()"
   ]
  },
  {
   "cell_type": "code",
   "execution_count": 21,
   "metadata": {},
   "outputs": [
    {
     "data": {
      "text/plain": [
       "您认为中国有多少值得自豪的地方\n",
       "很多     397\n",
       "有一些    194\n",
       "特别多    194\n",
       "很少      64\n",
       "特别少     14\n",
       "Name: count, dtype: int64"
      ]
     },
     "execution_count": 21,
     "metadata": {},
     "output_type": "execute_result"
    }
   ],
   "source": [
    "数据表.您认为中国有多少值得自豪的地方.value_counts()"
   ]
  },
  {
   "cell_type": "code",
   "execution_count": null,
   "metadata": {},
   "outputs": [],
   "source": [
    "# 根据上述变量，完成逻辑一致性检验，删除逻辑上存在矛盾的数据。\n",
    "\n"
   ]
  }
 ],
 "metadata": {
  "kernelspec": {
   "display_name": "Python 3",
   "language": "python",
   "name": "python3"
  },
  "language_info": {
   "codemirror_mode": {
    "name": "ipython",
    "version": 3
   },
   "file_extension": ".py",
   "mimetype": "text/x-python",
   "name": "python",
   "nbconvert_exporter": "python",
   "pygments_lexer": "ipython3",
   "version": "3.8.10"
  },
  "orig_nbformat": 4
 },
 "nbformat": 4,
 "nbformat_minor": 2
}
