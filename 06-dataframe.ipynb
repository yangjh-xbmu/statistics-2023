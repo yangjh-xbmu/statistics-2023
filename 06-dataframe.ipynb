{
 "cells": [
  {
   "cell_type": "code",
   "execution_count": 1,
   "metadata": {},
   "outputs": [],
   "source": [
    "import pandas as pd\n",
    "gzmt = pd.read_csv(R'data\\600519.csv')"
   ]
  },
  {
   "cell_type": "code",
   "execution_count": null,
   "metadata": {},
   "outputs": [],
   "source": [
    "gzmt.info()"
   ]
  },
  {
   "cell_type": "code",
   "execution_count": null,
   "metadata": {},
   "outputs": [],
   "source": [
    "gzmt.describe()"
   ]
  },
  {
   "cell_type": "code",
   "execution_count": null,
   "metadata": {},
   "outputs": [],
   "source": [
    "gzmt[['open','close']].describe()"
   ]
  },
  {
   "cell_type": "code",
   "execution_count": 7,
   "metadata": {},
   "outputs": [],
   "source": [
    "result = gzmt['open'].unique()"
   ]
  },
  {
   "cell_type": "code",
   "execution_count": 9,
   "metadata": {},
   "outputs": [],
   "source": [
    "result2 = gzmt.close.value_counts()"
   ]
  },
  {
   "cell_type": "code",
   "execution_count": 12,
   "metadata": {},
   "outputs": [
    {
     "data": {
      "text/plain": [
       "name\n",
       "A     4\n",
       "B     5\n",
       "C    12\n",
       "Name: value, dtype: int64"
      ]
     },
     "execution_count": 12,
     "metadata": {},
     "output_type": "execute_result"
    }
   ],
   "source": [
    "df = pd.DataFrame({\n",
    "    \"name\": [\"A\", \"B\", \"C\", \"B\", \"C\", \"A\", \"C\"],\n",
    "    \"value\": [1, 3, 7, 2, 4, 3, 1]\n",
    "})\n",
    "df.groupby(\"name\")[\"value\"].sum()"
   ]
  },
  {
   "cell_type": "code",
   "execution_count": 16,
   "metadata": {},
   "outputs": [
    {
     "name": "stdout",
     "output_type": "stream",
     "text": [
      "0    90\n",
      "1    85\n",
      "4    88\n",
      "Name: 一班, dtype: int64\n",
      "2    78\n",
      "3    92\n",
      "Name: 二班, dtype: int64\n",
      "班级\n",
      "一班    None\n",
      "二班    None\n",
      "Name: 成绩, dtype: object\n"
     ]
    }
   ],
   "source": [
    "data = {'姓名': ['张三', '李四', '王五', '赵六', '孙七'],\n",
    "        '年龄': [18, 19, 20, 18, 19],\n",
    "        '班级': ['一班', '一班', '二班', '二班', '一班'],\n",
    "        '成绩': [90, 85, 78, 92, 88]}\n",
    "\n",
    "df = pd.DataFrame(data)\n",
    "\n",
    "def average_score(group):\n",
    "    print(group)\n",
    "    # return group['成绩'].mean()\n",
    "\n",
    "result = df.groupby('班级')['成绩'].apply(average_score)\n",
    "print(result)"
   ]
  },
  {
   "cell_type": "code",
   "execution_count": 15,
   "metadata": {},
   "outputs": [],
   "source": [
    "result = df.groupby('班级')['成绩'].min()"
   ]
  },
  {
   "cell_type": "code",
   "execution_count": null,
   "metadata": {},
   "outputs": [],
   "source": []
  }
 ],
 "metadata": {
  "kernelspec": {
   "display_name": "Python 3",
   "language": "python",
   "name": "python3"
  },
  "language_info": {
   "codemirror_mode": {
    "name": "ipython",
    "version": 3
   },
   "file_extension": ".py",
   "mimetype": "text/x-python",
   "name": "python",
   "nbconvert_exporter": "python",
   "pygments_lexer": "ipython3",
   "version": "3.8.10"
  },
  "orig_nbformat": 4
 },
 "nbformat": 4,
 "nbformat_minor": 2
}
